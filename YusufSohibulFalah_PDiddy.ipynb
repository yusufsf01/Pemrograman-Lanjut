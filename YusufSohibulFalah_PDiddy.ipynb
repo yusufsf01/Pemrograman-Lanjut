{
  "nbformat": 4,
  "nbformat_minor": 0,
  "metadata": {
    "colab": {
      "provenance": [],
      "include_colab_link": true
    },
    "kernelspec": {
      "name": "python3",
      "display_name": "Python 3"
    },
    "language_info": {
      "name": "python"
    }
  },
  "cells": [
    {
      "cell_type": "markdown",
      "metadata": {
        "id": "view-in-github",
        "colab_type": "text"
      },
      "source": [
        "<a href=\"https://colab.research.google.com/github/yusufsf01/Pemrograman-Lanjut/blob/main/YusufSohibulFalah_PDiddy.ipynb\" target=\"_parent\"><img src=\"https://colab.research.google.com/assets/colab-badge.svg\" alt=\"Open In Colab\"/></a>"
      ]
    },
    {
      "cell_type": "markdown",
      "source": [
        "#**🖥️👩🏻‍💻PRAKTIKUM PEMROGRAMAN LANJUT🔥**\n",
        "##**Pertemuan (2) PENGULANGAN (LOOP) - Senin, 21 Oktober 2024**\n",
        "\n",
        "👤 Nama: Yusuf Sohibul Falah / NRP: 2C2230013 / Kelas: III/A Sains Data\n",
        "\n",
        "💬Deskripsi Pembahasan Materi Pengulangan:\n",
        "\n",
        "1.1.  Pengulangan (LOOP) 🔂\n",
        "- While Loop 🐋\n",
        "\n",
        "- For Loop\n",
        "\n",
        "1.2. Pengulangan Bersarang ( NESTED LOOP) 🔂🐦‍\n",
        "\n",
        "\n"
      ],
      "metadata": {
        "id": "_bN6_LxQCJZT"
      }
    },
    {
      "cell_type": "markdown",
      "source": [
        "#🤸🏻‍♀️ EKSPLORASI PRIBADI DI KELAS ✨"
      ],
      "metadata": {
        "id": "N0U2Qjks8P9F"
      }
    },
    {
      "cell_type": "markdown",
      "source": [
        "1.1 FOR"
      ],
      "metadata": {
        "id": "3HlnAeX3bcq1"
      }
    },
    {
      "cell_type": "code",
      "execution_count": null,
      "metadata": {
        "id": "itmMcxv88OIm",
        "collapsed": true,
        "outputId": "a009760d-535f-4f50-ab43-75f84dbf4e7f",
        "colab": {
          "base_uri": "https://localhost:8080/"
        }
      },
      "outputs": [
        {
          "output_type": "stream",
          "name": "stdout",
          "text": [
            "[1, 2, 10]\n"
          ]
        }
      ],
      "source": [
        "my_list = [1,2,3]\n",
        "my_list[2]= 10 # List dapat diubah\n",
        "print(my_list) #output : [10, 2, 3]"
      ]
    },
    {
      "cell_type": "code",
      "source": [
        "# Perulangan for loop\n",
        "var_list = [1,2,3,4,5,6,7,8,9,10]\n",
        "for i in var_list:\n",
        "  print(i)"
      ],
      "metadata": {
        "collapsed": true,
        "id": "Q4VXjbqXM6Ih",
        "outputId": "316656a9-71d7-418c-e8ae-4e86128821de",
        "colab": {
          "base_uri": "https://localhost:8080/"
        }
      },
      "execution_count": null,
      "outputs": [
        {
          "output_type": "stream",
          "name": "stdout",
          "text": [
            "1\n",
            "2\n",
            "3\n",
            "4\n",
            "5\n",
            "6\n",
            "7\n",
            "8\n",
            "9\n",
            "10\n"
          ]
        }
      ]
    },
    {
      "cell_type": "code",
      "source": [
        "huruf = \"Yusuf Sohibul Falah\"\n",
        "for i in huruf:\n",
        "  print(i)"
      ],
      "metadata": {
        "collapsed": true,
        "id": "594igI7ROF2A",
        "outputId": "bd2b23f9-e117-4a0d-aebd-926dc8a831c0",
        "colab": {
          "base_uri": "https://localhost:8080/"
        }
      },
      "execution_count": null,
      "outputs": [
        {
          "output_type": "stream",
          "name": "stdout",
          "text": [
            "Y\n",
            "u\n",
            "s\n",
            "u\n",
            "f\n",
            " \n",
            "S\n",
            "o\n",
            "h\n",
            "i\n",
            "b\n",
            "u\n",
            "l\n",
            " \n",
            "F\n",
            "a\n",
            "l\n",
            "a\n",
            "h\n"
          ]
        }
      ]
    },
    {
      "cell_type": "code",
      "source": [
        "for i in range (1,8,2): #range adalah rentang atau jangka # 1:awal 8:batas akhir 2:jangka atau kelipatan #(Start, Stop, Step)\n",
        "  print(i)"
      ],
      "metadata": {
        "collapsed": true,
        "id": "A7AOUpKuO5_4",
        "outputId": "649508b1-37c2-4d21-ccc9-40baa103014e",
        "colab": {
          "base_uri": "https://localhost:8080/"
        }
      },
      "execution_count": null,
      "outputs": [
        {
          "output_type": "stream",
          "name": "stdout",
          "text": [
            "1\n",
            "3\n",
            "5\n",
            "7\n"
          ]
        }
      ]
    },
    {
      "cell_type": "code",
      "source": [
        "for i in range (1000):\n",
        "  print(Hello World)"
      ],
      "metadata": {
        "id": "fiD-KDctQOvn"
      },
      "execution_count": null,
      "outputs": []
    },
    {
      "cell_type": "code",
      "source": [
        "for i in range (7, 2, -1):\n",
        "  print(i)"
      ],
      "metadata": {
        "collapsed": true,
        "id": "AtkUeHw_SS_7",
        "outputId": "f7b21e23-c6da-4d7c-d431-2488c74f17c7",
        "colab": {
          "base_uri": "https://localhost:8080/"
        }
      },
      "execution_count": null,
      "outputs": [
        {
          "output_type": "stream",
          "name": "stdout",
          "text": [
            "7\n",
            "6\n",
            "5\n",
            "4\n",
            "3\n"
          ]
        }
      ]
    },
    {
      "cell_type": "code",
      "source": [
        "a = int( input()) #a start\n",
        "b = int( input()) #b stop\n",
        "\n",
        "for i in range(a, b+1): #b+1 biar inputan stop ada di output\n",
        "  print(i)"
      ],
      "metadata": {
        "id": "StY9CinDSpX4"
      },
      "execution_count": null,
      "outputs": []
    },
    {
      "cell_type": "code",
      "source": [
        "a = int( input()) #a start\n",
        "b = int( input()) #b stop\n",
        "\n",
        "i=a\n",
        "while(i<=b): #I <= B MERUPAKAN SEBUAH KONDISI\n",
        "    print(\"Ucup\")\n",
        "    i += 1"
      ],
      "metadata": {
        "id": "ciqijUv6Uz8K",
        "outputId": "9782a780-00e6-499d-ad47-c5dc326d121f",
        "colab": {
          "base_uri": "https://localhost:8080/"
        }
      },
      "execution_count": null,
      "outputs": [
        {
          "output_type": "stream",
          "name": "stdout",
          "text": [
            "1\n",
            "8\n",
            "Ucup\n",
            "Ucup\n",
            "Ucup\n",
            "Ucup\n",
            "Ucup\n",
            "Ucup\n",
            "Ucup\n",
            "Ucup\n"
          ]
        }
      ]
    },
    {
      "cell_type": "markdown",
      "source": [
        "1.2 WHILE LOOP"
      ],
      "metadata": {
        "id": "ofXIYrPEbh-n"
      }
    },
    {
      "cell_type": "code",
      "source": [
        "#WHILE LOOP\n",
        "counter = i\n",
        "while counter <= 5:\n",
        "  print (counter)\n",
        "  counter += 1 #increment"
      ],
      "metadata": {
        "id": "oy4gT9XaUElV"
      },
      "execution_count": null,
      "outputs": []
    },
    {
      "cell_type": "markdown",
      "source": [
        "2.1 FOR NESTED LOOPING"
      ],
      "metadata": {
        "id": "WA4gbbbobp90"
      }
    },
    {
      "cell_type": "code",
      "source": [
        "#FOR NESTED LOOPING\n",
        "n = int( input())\n",
        "\n",
        "for i in range(n):\n",
        "  for j in range(n):\n",
        "    print(\"*\", end=\"\") #DIEKSEKUSI SEBANYAK N KALI"
      ],
      "metadata": {
        "id": "L4T-SsyNWJIg",
        "outputId": "4f269704-d44d-4df1-c4cc-2ff30fdbe679",
        "colab": {
          "base_uri": "https://localhost:8080/"
        }
      },
      "execution_count": null,
      "outputs": [
        {
          "output_type": "stream",
          "name": "stdout",
          "text": [
            "3\n",
            "*********"
          ]
        }
      ]
    },
    {
      "cell_type": "code",
      "source": [
        "#input user\n",
        "N = int(input(\"Masukan nilai N: \"))\n",
        "\n",
        "#5 TERKECIL YANG LEBIH BESAR DARI 5\n",
        "i = N + 1\n",
        "while i % 5 != 0:\n",
        "  i += 1\n",
        "print(\"output: \",i)"
      ],
      "metadata": {
        "id": "JrRx_vBWY8c-",
        "outputId": "3bd9a224-fd24-49e1-c51c-2bd0c0332265",
        "colab": {
          "base_uri": "https://localhost:8080/"
        }
      },
      "execution_count": null,
      "outputs": [
        {
          "output_type": "stream",
          "name": "stdout",
          "text": [
            "5\n",
            "output:  10\n"
          ]
        }
      ]
    },
    {
      "cell_type": "code",
      "source": [
        "N = int(input(\"Masukan nilai N: \"))\n",
        "\n",
        "for i in range (N, 0, -1):\n",
        "  for j in range(1 , i+1):\n",
        "    print(j , end=\"\")\n",
        "  print()"
      ],
      "metadata": {
        "id": "yL7QFUShad9F",
        "outputId": "c80768a4-7a08-48c6-8718-aed27190bdd5",
        "colab": {
          "base_uri": "https://localhost:8080/"
        }
      },
      "execution_count": null,
      "outputs": [
        {
          "output_type": "stream",
          "name": "stdout",
          "text": [
            "Masukan nilai N: 8\n",
            "12345678\n",
            "1234567\n",
            "123456\n",
            "12345\n",
            "1234\n",
            "123\n",
            "12\n",
            "1\n"
          ]
        }
      ]
    },
    {
      "cell_type": "markdown",
      "source": [],
      "metadata": {
        "id": "ymXjEqhvbWzm"
      }
    },
    {
      "cell_type": "code",
      "source": [
        "N = int(input(\"Masukan nilai N: \"))\n",
        "\n",
        "#Loop dari 1 hingga N\n",
        "for x in range (1, N + 1):\n",
        "  if x % 2 == 0 and x % 3 == 0:\n",
        "    print(\"Dua Tiga\", end=\"\")\n",
        "  elif x % 2 == 0:\n",
        "    print (\"Dua\", end=\"\")\n",
        "  elif x % 3 == 0:\n",
        "    print (\"Tiga\", end=\"\")\n",
        "  else:\n",
        "    print (x, end=\"\")\n",
        "print()"
      ],
      "metadata": {
        "id": "i9hh-vYUb82e",
        "outputId": "92e56ec9-4811-4ea5-f1bb-3a49f9df7cb6",
        "colab": {
          "base_uri": "https://localhost:8080/"
        }
      },
      "execution_count": null,
      "outputs": [
        {
          "output_type": "stream",
          "name": "stdout",
          "text": [
            "Masukan nilai N: 9\n",
            "1DuaTigaDua5Dua Tiga7DuaTiga\n"
          ]
        }
      ]
    },
    {
      "cell_type": "markdown",
      "source": [
        "- Interpretasi coding:\n",
        "\n",
        "- Interpretasi Hasil:"
      ],
      "metadata": {
        "id": "f1J9LJyv9-YC"
      }
    },
    {
      "cell_type": "markdown",
      "source": [
        "#🧠 LATIHAN SOAL DI KELAS ⏱️"
      ],
      "metadata": {
        "id": "KEGjH0_P9D1-"
      }
    },
    {
      "cell_type": "markdown",
      "source": [
        "Problem (1) Kalkulator Sederhana"
      ],
      "metadata": {
        "id": "nt7-fY7s9PgC"
      }
    },
    {
      "cell_type": "code",
      "source": [
        "def bilangan_terkecil(N):\n",
        "  while True:\n",
        "    N += 1\n",
        "    if N % 10 == 0:\n",
        "      return N\n",
        "\n",
        "N = int(input(\"Masukan bilangan N: \"))\n",
        "print(\"Bilangan 10 terkecil yang lebih dari N adalah:\", bilangan_terkecil(N))"
      ],
      "metadata": {
        "id": "h7si6sBj9Mr4",
        "outputId": "8daa86e1-39b6-4b3c-cc0a-382b28f24c5a",
        "colab": {
          "base_uri": "https://localhost:8080/"
        }
      },
      "execution_count": 3,
      "outputs": [
        {
          "output_type": "stream",
          "name": "stdout",
          "text": [
            "Masukan bilangan N: 20\n",
            "Bilangan 10 terkecil yang lebih dari N adalah: 30\n"
          ]
        }
      ]
    },
    {
      "cell_type": "markdown",
      "source": [
        "- Interpretasi coding: fungsi bilangan terkecil n akan terus bertambah hingga menemukan bilangan yang habis dibagi 10\n",
        "\n",
        "- Interpretasi Hasil: program akan menampilkan bilangan kelipatan 10 yang lebih besar dari nilai N"
      ],
      "metadata": {
        "id": "Wou8YKfJ9lvY"
      }
    },
    {
      "cell_type": "markdown",
      "source": [
        "Problem (2) Bilangan Ganjil"
      ],
      "metadata": {
        "id": "Eucg6DUK9fgA"
      }
    },
    {
      "cell_type": "code",
      "source": [
        "n =int(input(\"Masukan N: \"))\n",
        "\n",
        "for i in range(1, n+1):\n",
        "  for j in range(1, i+1):\n",
        "    print(j, end=\"\")\n",
        "  print()"
      ],
      "metadata": {
        "id": "9uWMEZpP9hlB",
        "outputId": "672a1429-957c-4da2-b267-43261fbfd3b9",
        "colab": {
          "base_uri": "https://localhost:8080/"
        }
      },
      "execution_count": 7,
      "outputs": [
        {
          "output_type": "stream",
          "name": "stdout",
          "text": [
            "Masukan N: 8\n",
            "1\n",
            "12\n",
            "123\n",
            "1234\n",
            "12345\n",
            "123456\n",
            "1234567\n",
            "12345678\n"
          ]
        }
      ]
    },
    {
      "cell_type": "markdown",
      "source": [
        "- Interpretasi coding: meminta input dari user berupa angka dan pada loop pertama mengontrol jumlah baris, loop kedua mengontrol angka yang diceatak pada setiap baris, lalu mencetak nilai j tanpa merubah baris\n",
        "\n",
        "- Interpretasi Hasil: Program ini menghasilkan pola segitiga angka yang teratur berdasarkan nilai N yang dimasukkan oleh pengguna"
      ],
      "metadata": {
        "id": "fM9Fo97_93Ni"
      }
    },
    {
      "cell_type": "markdown",
      "source": [
        "#🏆 POST TEST 🎯"
      ],
      "metadata": {
        "id": "J_75vTSXKFGE"
      }
    },
    {
      "cell_type": "markdown",
      "source": [
        "Problem (1)"
      ],
      "metadata": {
        "id": "twhHfrqiKSfV"
      }
    },
    {
      "cell_type": "code",
      "source": [
        "  n = int(input(\"Masukkan N: \"))\n",
        "  a = int(input(\"Masukkan A: \"))\n",
        "  b = int(input(\"Masukkan B: \"))\n",
        "  c = int(input(\"Masukkan C: \"))\n",
        "\n",
        "  for x in range(1, n + 1):\n",
        "    output = \"\"\n",
        "    if x % a == 0:\n",
        "      output += \"Siap\"\n",
        "    if x % b == 0:\n",
        "      output += \"Bang\"\n",
        "    if x % c == 0:\n",
        "      output += \"Jago\"\n",
        "\n",
        "    if output == \"\":\n",
        "      print(x)\n",
        "    else:\n",
        "      print(output)"
      ],
      "metadata": {
        "id": "hOI8Gls9KV05",
        "outputId": "9c458d68-7e0c-48d5-eaf3-5ce5cee11c6c",
        "colab": {
          "base_uri": "https://localhost:8080/"
        }
      },
      "execution_count": 5,
      "outputs": [
        {
          "output_type": "stream",
          "name": "stdout",
          "text": [
            "Masukkan N: 12\n",
            "Masukkan A: 2\n",
            "Masukkan B: 3\n",
            "Masukkan C: 4\n",
            "1\n",
            "Siap\n",
            "Bang\n",
            "SiapJago\n",
            "5\n",
            "SiapBang\n",
            "7\n",
            "SiapJago\n",
            "Bang\n",
            "Siap\n",
            "11\n",
            "SiapBangJago\n"
          ]
        }
      ]
    },
    {
      "cell_type": "code",
      "source": [
        "  n = int(input(\"Masukkan N: \"))\n",
        "  a = int(input(\"Masukkan A: \"))\n",
        "  b = int(input(\"Masukkan B: \"))\n",
        "  c = int(input(\"Masukkan C: \"))\n",
        "\n",
        "  for x in range(1, n + 1):\n",
        "    output = \"\"\n",
        "    if x % a == 0:\n",
        "      output += \"Siap\"\n",
        "    if x % b == 0:\n",
        "      output += \"Bang\"\n",
        "    if x % c == 0:\n",
        "      output += \"Jago\"\n",
        "\n",
        "    if output == \"\":\n",
        "      print(x)\n",
        "    else:\n",
        "      print(output)"
      ],
      "metadata": {
        "id": "F-w4oL-zhjme",
        "outputId": "17cdb3e9-f95a-4f54-e9d3-50ab90bcbe32",
        "colab": {
          "base_uri": "https://localhost:8080/"
        }
      },
      "execution_count": 6,
      "outputs": [
        {
          "output_type": "stream",
          "name": "stdout",
          "text": [
            "Masukkan N: 5\n",
            "Masukkan A: 1\n",
            "Masukkan B: 1\n",
            "Masukkan C: 1\n",
            "SiapBangJago\n",
            "SiapBangJago\n",
            "SiapBangJago\n",
            "SiapBangJago\n",
            "SiapBangJago\n"
          ]
        }
      ]
    },
    {
      "cell_type": "markdown",
      "source": [
        "- Interpretasi coding: Loop berjalan dari 1. Untuk setiap: Jika habis dibagi, cetak “Siap”. Jika habis dibagi, cetak “Bang”. Jika habis dibagi, cetak “Jago”. Jika tidak habis dibagi,, atau, cetak angka. Hasilnya ditampilkan dalam satu baris dengan spasi sebagai pemisah.\n",
        "\n",
        "\n",
        "- Interpretasi hasil:Angka 3 habis dibagi, jadi keluar “Siap”. Angka 5 habis dibagi, jadi keluar “Bang”. Angka 7 habis dibagi, jadi keluar “Jago”. Angka 15 habis dibagi dan, jadi keluar“SiapBang”."
      ],
      "metadata": {
        "id": "t9x---59KWVI"
      }
    },
    {
      "cell_type": "markdown",
      "source": [
        "📌Catatan:\n",
        "  - Notebook python ini dibuat untuk memudahkan temen-temen belajar ngoding dan pengumpulan tugas.\n",
        "  - Silakan download notebook ini lalu upload di Google Collab milik kalian agar format `pertemuan`, `topik pertemuan`,\n",
        "`tanggal`, `deskripsi pembahasan materi`, `baris coding` dan `interpretasi` bisa disesuaikan dengan kebutuhan teman-teman.\n",
        "\n",
        "  - Interpretasi coding dan hasil dimaksudkan agar teman-teman semakin memahami apa yang dipelajari.\n",
        "\n",
        "  - Deskripsi pembahasan materi dimaksudkan agar teman-teman semakin memahami apa fokus yang dipelajari.\n",
        "\n",
        "  - Tulisan di setiap sebelum baris code disebut `markdown`. Ada beberapa jenis simbol yang memudahkan kepenulisan `markdown` kita, yaitu seperti : untuk mengatur ukuran tulisan biasanya tulisan pada header menggunakan ini`#`, `##`, `###`, untuk membuat pointer menggunakan ini `-`, untuk membuat tulisan ter-highlight menggunakan ini *` `* , untuk short-cut membuat tulisan jadi **bold** gunakan ini `** **`, dan untuk *tulisan miring* gunakan ini `* *` .\n",
        "\n",
        "  - Semangat belajar! 🌟✨\n",
        "\n",
        "©️ LABORATORIUM SAINS DATA 2024"
      ],
      "metadata": {
        "id": "D-tRQnbQK69l"
      }
    }
  ]
}