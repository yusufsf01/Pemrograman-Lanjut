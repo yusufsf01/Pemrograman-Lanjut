{
  "cells": [
    {
      "cell_type": "markdown",
      "metadata": {
        "id": "view-in-github",
        "colab_type": "text"
      },
      "source": [
        "<a href=\"https://colab.research.google.com/github/yusufsf01/Pemrograman-Lanjut/blob/main/Fungsi%26Prosedure_Yusuf.ipynb\" target=\"_parent\"><img src=\"https://colab.research.google.com/assets/colab-badge.svg\" alt=\"Open In Colab\"/></a>"
      ]
    },
    {
      "cell_type": "markdown",
      "metadata": {
        "id": "_bN6_LxQCJZT"
      },
      "source": [
        "#**🖥️👩🏻‍💻PRAKTIKUM PEMROGRAMAN LANJUT🔥**\n",
        "##**Pertemuan (10) FUNGSI (STRUKTUR) - Senin, 15 Desember 2024**\n",
        "\n",
        "👤 Nama: Yusuf Sohibul Falah/ NRP: 2C2230013 / Kelas: III/A Sains Data\n",
        "\n",
        "💬Deskripsi Pembahasan Materi Matriks:"
      ]
    },
    {
      "cell_type": "markdown",
      "metadata": {
        "id": "N0U2Qjks8P9F"
      },
      "source": [
        "#🤸🏻‍♀️ EKSPLORASI PRIBADI DI KELAS ✨"
      ]
    },
    {
      "cell_type": "code",
      "execution_count": null,
      "metadata": {
        "id": "itmMcxv88OIm",
        "colab": {
          "base_uri": "https://localhost:8080/"
        },
        "outputId": "37c139b1-d3c6-414a-a50e-3fcc790da4c6"
      },
      "outputs": [
        {
          "output_type": "stream",
          "name": "stdout",
          "text": [
            "25\n",
            "100\n"
          ]
        }
      ],
      "source": [
        "def kuadrat(x):\n",
        "    x2 = x * x\n",
        "    return x2\n",
        "print(kuadrat(5))\n",
        "print(kuadrat(10))"
      ]
    },
    {
      "cell_type": "code",
      "source": [
        "def kuadrat(x):\n",
        "    x2 = x * x\n",
        "    return x2\n",
        "\n",
        "n = int(input())\n",
        "n2 = kuadrat(n)\n",
        "print(n2)\n"
      ],
      "metadata": {
        "colab": {
          "base_uri": "https://localhost:8080/"
        },
        "id": "1hNtTlvMyZ2t",
        "outputId": "ebed82bb-189d-48de-b7b8-8409c14dc5c2"
      },
      "execution_count": null,
      "outputs": [
        {
          "output_type": "stream",
          "name": "stdout",
          "text": [
            "5\n",
            "25\n"
          ]
        }
      ]
    },
    {
      "cell_type": "code",
      "source": [
        "def pangkat(a, b):  # Asumsi b >= 0\n",
        "    c = 1\n",
        "    for i in range(b):\n",
        "        c *= a\n",
        "    return c\n",
        "print(pangkat(2,2,))\n",
        "print(pangkat(3,4))"
      ],
      "metadata": {
        "colab": {
          "base_uri": "https://localhost:8080/"
        },
        "id": "ftfBf4RTye_u",
        "outputId": "26e29af3-f308-45b3-8f4a-a3fb072d68bc"
      },
      "execution_count": null,
      "outputs": [
        {
          "output_type": "stream",
          "name": "stdout",
          "text": [
            "4\n",
            "81\n"
          ]
        }
      ]
    },
    {
      "cell_type": "code",
      "source": [
        "print(\"Menu:\")\n",
        "print(\"1. Chicken Katsu\")\n",
        "print(\"2. Cilok\")\n",
        "print(\"3. Kentang\")\n",
        "print(\"Masukkan pilihan: \")\n",
        "pilihan_makanan = int(input())\n",
        "\n",
        "# Pengulangan untuk menu minuman dan tambahan\n"
      ],
      "metadata": {
        "colab": {
          "base_uri": "https://localhost:8080/"
        },
        "id": "bAsriKczyhnW",
        "outputId": "ed9ac610-2ad1-4772-cd1d-f22aa366b371"
      },
      "execution_count": 1,
      "outputs": [
        {
          "name": "stdout",
          "output_type": "stream",
          "text": [
            "Menu:\n",
            "1. Chicken Katsu\n",
            "2. Cilok\n",
            "3. Kentang\n",
            "Masukkan pilihan: \n",
            "1\n"
          ]
        }
      ]
    },
    {
      "cell_type": "code",
      "source": [
        "def tulis_menu(pil1, pil2, pil3):\n",
        "    print(\"Menu:\")\n",
        "    print(\"1. \" + str(pil1))\n",
        "    print(\"2. \" + str(pil2))\n",
        "    print(\"3. \" + str(pil3))\n",
        "    print(\"Masukkan pilihan: \")\n",
        "\n",
        "tulis_menu(\"Chicken Katsu\", \"Cilok\", \"Kentang\")\n",
        "pilihan_makanan = int(input())\n",
        "\n",
        "tulis_menu(\"Jus Alpukat\", \"Air Mineral\", \"Teh Tarik\")\n",
        "pilihan_minuman = int(input())\n",
        "\n"
      ],
      "metadata": {
        "colab": {
          "base_uri": "https://localhost:8080/"
        },
        "id": "ntVTiD5pynR_",
        "outputId": "fbed8b1b-96b9-41d6-adc3-5b0e9e12a114"
      },
      "execution_count": 2,
      "outputs": [
        {
          "name": "stdout",
          "output_type": "stream",
          "text": [
            "Menu:\n",
            "1. Chicken Katsu\n",
            "2. Cilok\n",
            "3. Kentang\n",
            "Masukkan pilihan: \n",
            "1\n",
            "Menu:\n",
            "1. Jus Alpukat\n",
            "2. Air Mineral\n",
            "3. Teh Tarik\n",
            "Masukkan pilihan: \n",
            "2\n"
          ]
        }
      ]
    },
    {
      "cell_type": "code",
      "source": [],
      "metadata": {
        "id": "3CFZ25N5zmHf"
      },
      "execution_count": null,
      "outputs": []
    },
    {
      "cell_type": "markdown",
      "metadata": {
        "id": "f1J9LJyv9-YC"
      },
      "source": [
        "- Interpretasi coding:\n",
        "\n",
        "- Interpretasi Hasil:"
      ]
    },
    {
      "cell_type": "markdown",
      "metadata": {
        "id": "KEGjH0_P9D1-"
      },
      "source": [
        "#🧠 LATIHAN SOAL DI KELAS ⏱️"
      ]
    },
    {
      "cell_type": "markdown",
      "metadata": {
        "id": "nt7-fY7s9PgC"
      },
      "source": [
        "Problem (1) Fungsi Kuadrat"
      ]
    },
    {
      "cell_type": "code",
      "source": [
        "def f(x):\n",
        "    return x**2 - 2*x + 5\n",
        "\n",
        "def fungsi_kuadrat(a, b):\n",
        "    for x in range(a, b+1):\n",
        "        print(f\"f({x}) = {f(x)}\")\n",
        "\n",
        "# Contoh penggunaan\n",
        "A = int(input(\"Masukkan A: \"))\n",
        "B = int(input(\"Masukkan B: \"))\n",
        "fungsi_kuadrat(A, B)"
      ],
      "metadata": {
        "colab": {
          "base_uri": "https://localhost:8080/"
        },
        "id": "OY93EbZD01sn",
        "outputId": "705a5a21-8a1e-4969-90ae-0296f2668e50"
      },
      "execution_count": null,
      "outputs": [
        {
          "output_type": "stream",
          "name": "stdout",
          "text": [
            "Masukkan A: 3\n",
            "Masukkan B: 6\n",
            "f(3) = 8\n",
            "f(4) = 13\n",
            "f(5) = 20\n",
            "f(6) = 29\n"
          ]
        }
      ]
    },
    {
      "cell_type": "markdown",
      "metadata": {
        "id": "Wou8YKfJ9lvY"
      },
      "source": [
        "- Interpretasi coding:\n",
        "1.\tDefinisi Fungsi:\n",
        "\t•\tf(x) adalah fungsi yang menghitung ￼. Setiap nilai ￼ yang dimasukkan akan menghasilkan nilai fungsi tersebut.\n",
        "\t•\tContoh: Jika ￼, maka ￼.\n",
        "2.\tFungsi fungsi_kuadrat:\n",
        "\t•\tFungsi ini menerima dua parameter: a (batas bawah) dan b (batas atas).\n",
        "\t•\tMenggunakan for loop untuk mengulang dari a hingga b (inklusif).\n",
        "\t•\tSetiap iterasi akan memanggil fungsi f(x) untuk menghitung nilai ￼, lalu mencetaknya.\n",
        "3.\tInput dan Eksekusi:\n",
        "\t•\tProgram meminta input dari pengguna untuk nilai A dan B.\n",
        "\t•\tNilai A dan B dikirim ke fungsi fungsi_kuadrat, yang kemudian mencetak hasil dari setiap nilai x.\n",
        "- Interpretasi Hasil:\n",
        "•\tInput: A = 3, B = 6\n",
        "\t•\tIterasi: x\n",
        "\t•\tOutput:\n",
        "f(3) = 8\n",
        "f(4) = 13\n",
        "f(5) = 20\n",
        "f(6) = 29"
      ]
    },
    {
      "cell_type": "markdown",
      "metadata": {
        "id": "Eucg6DUK9fgA"
      },
      "source": [
        "Problem (2) Validasi Ganjil"
      ]
    },
    {
      "cell_type": "code",
      "execution_count": null,
      "metadata": {
        "colab": {
          "base_uri": "https://localhost:8080/"
        },
        "id": "9uWMEZpP9hlB",
        "outputId": "20652ac0-6c99-46bc-db9b-ac1e699fde41"
      },
      "outputs": [
        {
          "output_type": "stream",
          "name": "stdout",
          "text": [
            "Masukkan kata sandi: Password123\n",
            "Sandi valid.\n"
          ]
        }
      ],
      "source": [
        "def validasi_sandi(sandi):\n",
        "    if len(sandi) < 8:\n",
        "        return False, \"Panjang sandi harus minimal 8 karakter.\"\n",
        "    if not any(char.isupper() for char in sandi):\n",
        "        return False, \"Sandi harus mengandung minimal satu huruf besar.\"\n",
        "    if not any(char.isdigit() for char in sandi):\n",
        "        return False, \"Sandi harus mengandung minimal satu angka.\"\n",
        "    return True, \"Sandi valid.\"\n",
        "\n",
        "# Contoh penggunaan\n",
        "sandi = input(\"Masukkan kata sandi: \")\n",
        "valid, pesan = validasi_sandi(sandi)\n",
        "print(pesan)"
      ]
    },
    {
      "cell_type": "code",
      "source": [
        "def validasi_sandi(sandi):\n",
        "    if len(sandi) < 8:\n",
        "        return False, \"Panjang sandi harus minimal 8 karakter.\"\n",
        "    if not any(char.isupper() for char in sandi):\n",
        "        return False, \"Sandi harus mengandung minimal satu huruf besar.\"\n",
        "    if not any(char.isdigit() for char in sandi):\n",
        "        return False, \"Sandi harus mengandung minimal satu angka.\"\n",
        "    return True, \"Sandi valid.\"\n",
        "\n",
        "# Contoh penggunaan\n",
        "sandi = input(\"Masukkan kata sandi: \")\n",
        "valid, pesan = validasi_sandi(sandi)\n",
        "print(pesan)"
      ],
      "metadata": {
        "colab": {
          "base_uri": "https://localhost:8080/"
        },
        "id": "X7lzIQO-1WpH",
        "outputId": "09c0730d-1f2c-4ddf-ba57-6606e725f23c"
      },
      "execution_count": null,
      "outputs": [
        {
          "output_type": "stream",
          "name": "stdout",
          "text": [
            "Masukkan kata sandi: pass123\n",
            "Panjang sandi harus minimal 8 karakter.\n"
          ]
        }
      ]
    },
    {
      "cell_type": "markdown",
      "metadata": {
        "id": "fM9Fo97_93Ni"
      },
      "source": [
        "- Interpretasi coding:\n",
        "1.\tFungsi validasi_sandi:\n",
        "\t•\tMengecek apakah sandi memenuhi 3 kriteria:\n",
        "\t1.\tPanjang sandi minimal 8 karakter:\n",
        "\t•\tlen(sandi) < 8 mengecek panjang sandi.\n",
        "\t2.\tMengandung huruf besar:\n",
        "\t•\tany(char.isupper() for char in sandi) menggunakan list comprehension untuk mencari minimal satu huruf besar.\n",
        "\t3.\tMengandung angka:\n",
        "\t•\tany(char.isdigit() for char in sandi) mengecek apakah sandi mengandung angka.\n",
        "2.\tOutput:\n",
        "\t•\tJika kriteria tidak terpenuhi, fungsi mengembalikan False dengan pesan alasan validasi gagal.\n",
        "\t•\tJika semua kriteria terpenuhi, fungsi mengembalikan True dengan pesan “Sandi valid.”\n",
        "3.\tInput dan Eksekusi:\n",
        "\t•\tProgram meminta input sandi dari pengguna.\n",
        "\t•\tFungsi validasi_sandi dijalankan, dan hasil validasi ditampilkan ke layar.\n",
        "- Interpretasi Hasil:\n",
        "\t•\tInput: Password123\n",
        "Output: Sandi valid.\n",
        "\t•\tInput: pass123\n",
        "Output: Sandi harus mengandung minimal satu huruf besar."
      ]
    },
    {
      "cell_type": "markdown",
      "source": [
        "Problem (2) Determinan Matriks"
      ],
      "metadata": {
        "id": "oQ9sED5V1Zxn"
      }
    },
    {
      "cell_type": "code",
      "source": [
        "def determinant_2x2(matrix):\n",
        "    a, b = matrix[0]\n",
        "    c, d = matrix[1]\n",
        "    return (a * d) - (b * c)\n",
        "\n",
        "# Contoh penggunaan\n",
        "A = [[2, 3], [1, 4]]\n",
        "print(f\"Determinan = {determinant_2x2(A)}\")"
      ],
      "metadata": {
        "colab": {
          "base_uri": "https://localhost:8080/"
        },
        "id": "BArRb09m1hJ_",
        "outputId": "af479b9f-ceb1-47d0-cd89-e9f1c61d1572"
      },
      "execution_count": null,
      "outputs": [
        {
          "output_type": "stream",
          "name": "stdout",
          "text": [
            "Determinan = 5\n"
          ]
        }
      ]
    },
    {
      "cell_type": "markdown",
      "source": [
        "- Interpretasi coding:\n",
        "1.\tMatriks 2x2:\n",
        "\t•\tSebuah matriks 2x2 dapat direpresentasikan sebagai:\n",
        "| a  b |\n",
        "| c  d |\n",
        "\t•\tRumus determinan: x.\n",
        "2.\tFungsi determinant_2x2:\n",
        "\n",
        "\t•\tParameter matrix berupa list 2 dimensi:\n",
        "\n",
        "\t•\tmatrix[0] adalah baris pertama (mengandung elemen a dan b).\n",
        "\n",
        "\t•\tmatrix[1] adalah baris kedua (mengandung elemen c dan d).\n",
        "\n",
        "\t•\tElemen-elemen ini digunakan untuk menghitung determinan dengan rumus x.\n",
        "\n",
        "3.\tContoh Input dan Eksekusi:\n",
        "\t•\tInput: A = [[2, 3], [1, 4]]\n",
        "\t•\tx\n",
        "\t•\tDeterminan: x\n",
        "\t•\tOutput: Determinan = 5"
      ],
      "metadata": {
        "id": "EDf-3NWD3HQX"
      }
    }
  ],
  "metadata": {
    "colab": {
      "provenance": [],
      "include_colab_link": true
    },
    "kernelspec": {
      "display_name": "Python 3",
      "name": "python3"
    },
    "language_info": {
      "name": "python"
    }
  },
  "nbformat": 4,
  "nbformat_minor": 0
}