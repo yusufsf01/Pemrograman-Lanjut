{
  "nbformat": 4,
  "nbformat_minor": 0,
  "metadata": {
    "colab": {
      "provenance": [],
      "include_colab_link": true
    },
    "kernelspec": {
      "name": "python3",
      "display_name": "Python 3"
    },
    "language_info": {
      "name": "python"
    }
  },
  "cells": [
    {
      "cell_type": "markdown",
      "metadata": {
        "id": "view-in-github",
        "colab_type": "text"
      },
      "source": [
        "<a href=\"https://colab.research.google.com/github/yusufsf01/Pemrograman-Lanjut/blob/main/Matriks_Yusuf.ipynb\" target=\"_parent\"><img src=\"https://colab.research.google.com/assets/colab-badge.svg\" alt=\"Open In Colab\"/></a>"
      ]
    },
    {
      "cell_type": "markdown",
      "source": [
        "#**🖥️👩🏻‍💻PRAKTIKUM PEMROGRAMAN LANJUT🔥**\n",
        "##**Pertemuan (7) Matriks - Senin, 9 Desember 2024**\n",
        "\n",
        "👤 Nama: Yusuf Sohibul Falah / NRP: 2C2230013 / Kelas: III/A Sains Data\n",
        "\n",
        "💬Deskripsi Pembahasan Materi Matriks:\n",
        "\n",
        "\n"
      ],
      "metadata": {
        "id": "_bN6_LxQCJZT"
      }
    },
    {
      "cell_type": "markdown",
      "source": [
        "#🤸🏻‍♀️ EKSPLORASI PRIBADI DI KELAS ✨"
      ],
      "metadata": {
        "id": "N0U2Qjks8P9F"
      }
    },
    {
      "cell_type": "markdown",
      "source": [
        "Library Numpy"
      ],
      "metadata": {
        "id": "RVojm9TnjDob"
      }
    },
    {
      "cell_type": "code",
      "source": [
        "import numpy as np\n",
        "\n",
        "x1 = np.array([[2,3,4],\n",
        "               [2,5,6],\n",
        "               [6,7,8]])\n",
        "x1"
      ],
      "metadata": {
        "id": "yXySYEsGiovi",
        "outputId": "02434091-90b8-4dfc-bac4-22a50d5824a3",
        "colab": {
          "base_uri": "https://localhost:8080/"
        }
      },
      "execution_count": 3,
      "outputs": [
        {
          "output_type": "execute_result",
          "data": {
            "text/plain": [
              "array([[2, 3, 4],\n",
              "       [2, 5, 6],\n",
              "       [6, 7, 8]])"
            ]
          },
          "metadata": {},
          "execution_count": 3
        }
      ]
    },
    {
      "cell_type": "markdown",
      "source": [
        "Matriks List"
      ],
      "metadata": {
        "id": "GRYweIp5jxVZ"
      }
    },
    {
      "cell_type": "code",
      "source": [
        "ls = [[2,3,4],\n",
        "      [2,5,6],\n",
        "      [6,7,8]]\n",
        "ls"
      ],
      "metadata": {
        "id": "PxiSzVkgjkDq",
        "outputId": "38e18d53-90e6-4952-a9bc-292b51023247",
        "colab": {
          "base_uri": "https://localhost:8080/"
        }
      },
      "execution_count": 5,
      "outputs": [
        {
          "output_type": "execute_result",
          "data": {
            "text/plain": [
              "[[2, 3, 4], [2, 5, 6], [6, 7, 8]]"
            ]
          },
          "metadata": {},
          "execution_count": 5
        }
      ]
    },
    {
      "cell_type": "code",
      "source": [
        "x2 =  np.dot(x1,x1)\n",
        "x2"
      ],
      "metadata": {
        "id": "MLH5ARqZkR0x",
        "outputId": "8af81505-4369-4147-8e55-6249cd73aa98",
        "colab": {
          "base_uri": "https://localhost:8080/"
        }
      },
      "execution_count": 6,
      "outputs": [
        {
          "output_type": "execute_result",
          "data": {
            "text/plain": [
              "array([[ 34,  49,  58],\n",
              "       [ 50,  73,  86],\n",
              "       [ 74, 109, 130]])"
            ]
          },
          "metadata": {},
          "execution_count": 6
        }
      ]
    },
    {
      "cell_type": "code",
      "execution_count": 4,
      "metadata": {
        "id": "itmMcxv88OIm",
        "outputId": "710c7565-f04b-46b2-fdad-30150a4a21cf",
        "colab": {
          "base_uri": "https://localhost:8080/"
        }
      },
      "outputs": [
        {
          "output_type": "execute_result",
          "data": {
            "text/plain": [
              "[[0, 0, 0, 0, 0, 0, 0, 0, 0, 0, 0, 0, 0, 0, 0, 0, 0, 0, 0, 0],\n",
              " [0, 0, 0, 0, 0, 0, 0, 0, 0, 0, 0, 0, 0, 0, 0, 0, 0, 0, 0, 0],\n",
              " [0, 0, 0, 0, 0, 0, 0, 0, 0, 0, 0, 0, 0, 0, 0, 0, 0, 0, 0, 0],\n",
              " [0, 0, 0, 0, 0, 0, 0, 0, 0, 0, 0, 0, 0, 0, 0, 0, 0, 0, 0, 0],\n",
              " [0, 0, 0, 0, 0, 0, 0, 0, 0, 0, 0, 0, 0, 0, 0, 0, 0, 0, 0, 0],\n",
              " [0, 0, 0, 0, 0, 0, 0, 0, 0, 0, 0, 0, 0, 0, 0, 0, 0, 0, 0, 0],\n",
              " [0, 0, 0, 0, 0, 0, 0, 0, 0, 0, 0, 0, 0, 0, 0, 0, 0, 0, 0, 0],\n",
              " [0, 0, 0, 0, 0, 0, 0, 0, 0, 0, 0, 0, 0, 0, 0, 0, 0, 0, 0, 0],\n",
              " [0, 0, 0, 0, 0, 0, 0, 0, 0, 0, 0, 0, 0, 0, 0, 0, 0, 0, 0, 0],\n",
              " [0, 0, 0, 0, 0, 0, 0, 0, 0, 0, 0, 0, 0, 0, 0, 0, 0, 0, 0, 0]]"
            ]
          },
          "metadata": {},
          "execution_count": 4
        }
      ],
      "source": [
        "A = [[0 for j in range (20)] for i in range (10)]\n",
        "A"
      ]
    },
    {
      "cell_type": "code",
      "source": [
        "n = int(input())\n",
        "m = int(input())\n",
        "\n",
        "A = [[0 for j in range(m)] for i in range (n)]\n",
        "B = [[0 for j in range(i)] for i in range (m)]\n"
      ],
      "metadata": {
        "id": "WWzHsNbzhEvB"
      },
      "execution_count": null,
      "outputs": []
    },
    {
      "cell_type": "markdown",
      "source": [
        "- Interpretasi coding:\n",
        "\n",
        "- Interpretasi Hasil:"
      ],
      "metadata": {
        "id": "f1J9LJyv9-YC"
      }
    },
    {
      "cell_type": "markdown",
      "source": [
        "#🧠 LATIHAN SOAL DI KELAS ⏱️"
      ],
      "metadata": {
        "id": "KEGjH0_P9D1-"
      }
    },
    {
      "cell_type": "markdown",
      "source": [
        "Problem (1) Matriks Segitiga Pascal"
      ],
      "metadata": {
        "id": "nt7-fY7s9PgC"
      }
    },
    {
      "cell_type": "code",
      "source": [
        "def segitiga_pascal(n):\n",
        "\n",
        "    matriks = [[0 for _ in range(n)] for _ in range(n)]\n",
        "\n",
        "\n",
        "    for i in range(n):\n",
        "        for j in range(i + 1):\n",
        "            if j == 0 or j == i:\n",
        "                matriks[i][j] = 1\n",
        "            else:\n",
        "                matriks[i][j] = matriks[i - 1][j - 1] + matriks[i - 1][j]\n",
        "\n",
        "\n",
        "    for i in range(n):\n",
        "        print(\" \".join(str(matriks[i][j]) for j in range(i + 1)))\n",
        "\n",
        "\n",
        "n = 5\n",
        "segitiga_pascal(n)"
      ],
      "metadata": {
        "id": "EmAdNHkMoSiC",
        "outputId": "c1d520f4-3aec-4371-93b9-06580db3bdde",
        "colab": {
          "base_uri": "https://localhost:8080/"
        }
      },
      "execution_count": 10,
      "outputs": [
        {
          "output_type": "stream",
          "name": "stdout",
          "text": [
            "1\n",
            "1 1\n",
            "1 2 1\n",
            "1 3 3 1\n",
            "1 4 6 4 1\n"
          ]
        }
      ]
    },
    {
      "cell_type": "markdown",
      "source": [
        "- Interpretasi coding:\n",
        "\n",
        "- Interpretasi Hasil:"
      ],
      "metadata": {
        "id": "Wou8YKfJ9lvY"
      }
    },
    {
      "cell_type": "markdown",
      "source": [
        "Problem (2) Linear Algebra"
      ],
      "metadata": {
        "id": "Eucg6DUK9fgA"
      }
    },
    {
      "cell_type": "code",
      "source": [
        "import numpy as np\n",
        "\n",
        "def hitung_determinant(matriks):\n",
        "    return np.linalg.det(matriks)\n",
        "\n",
        "matriks_A = np.array([[1, 2],\n",
        "                      [3, 4]])\n",
        "\n",
        "matriks_B = np.array([[-1, 3, 0],\n",
        "                      [2, 1, -5],\n",
        "                      [1, 4, -2]])\n",
        "\n",
        "det_A = hitung_determinant(matriks_A)\n",
        "det_B = hitung_determinant(matriks_B)\n",
        "\n",
        "print(f\"Determinant dari matriks A: {det_A}\")\n",
        "print(f\"Determinant dari matriks B: {det_B}\")\n"
      ],
      "metadata": {
        "id": "9uWMEZpP9hlB",
        "outputId": "d4faa5f5-7861-46cd-da99-cd392c2b09de",
        "colab": {
          "base_uri": "https://localhost:8080/"
        }
      },
      "execution_count": 19,
      "outputs": [
        {
          "output_type": "stream",
          "name": "stdout",
          "text": [
            "Determinant dari matriks A: -2.0000000000000004\n",
            "Determinant dari matriks B: -21.00000000000001\n"
          ]
        }
      ]
    },
    {
      "cell_type": "code",
      "source": [
        "A = [\n",
        "    [1, 3, 7, 2],\n",
        "    [5, 8, -9, 0],\n",
        "    [6, -7, 11, 12]\n",
        "]\n",
        "\n",
        "def transpose(matrix):\n",
        "  rows = len(matrix)\n",
        "  cols = len(matrix[0])\n",
        "\n",
        "  transposed = [[0 for _ in range(rows)] for _ in range(cols)]\n",
        "\n",
        "  for i in range(rows):\n",
        "    for j in range(cols):\n",
        "      transposed[j][i] = matrix[i][j]\n",
        "\n",
        "  return transposed\n",
        "\n",
        "A_transpose = transpose(A)\n",
        "\n",
        "print(\"Matriks A:\")\n",
        "for row in A:\n",
        "  print(row)\n",
        "\n",
        "print(\"\\nTranspose dari matriks A:\")\n",
        "for row in A_transpose:\n",
        "  print(row)"
      ],
      "metadata": {
        "id": "A3DzCNMLrB4x",
        "outputId": "acc6c532-fc3f-466b-e6b7-616e95823792",
        "colab": {
          "base_uri": "https://localhost:8080/"
        }
      },
      "execution_count": 13,
      "outputs": [
        {
          "output_type": "stream",
          "name": "stdout",
          "text": [
            "Matriks A:\n",
            "[1, 3, 7, 2]\n",
            "[5, 8, -9, 0]\n",
            "[6, -7, 11, 12]\n",
            "\n",
            "Transpose dari matriks A:\n",
            "[1, 5, 6]\n",
            "[3, 8, -7]\n",
            "[7, -9, 11]\n",
            "[2, 0, 12]\n"
          ]
        }
      ]
    },
    {
      "cell_type": "markdown",
      "source": [
        "- Interpretasi coding:\n",
        "\n",
        "- Interpretasi Hasil:"
      ],
      "metadata": {
        "id": "fM9Fo97_93Ni"
      }
    }
  ]
}